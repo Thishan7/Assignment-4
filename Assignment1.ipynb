{
  "nbformat": 4,
  "nbformat_minor": 0,
  "metadata": {
    "colab": {
      "name": "Assignment1.ipynb",
      "provenance": [],
      "collapsed_sections": [],
      "authorship_tag": "ABX9TyNtvqUJXw6qH/P3LGlw801X",
      "include_colab_link": true
    },
    "kernelspec": {
      "name": "python3",
      "display_name": "Python 3"
    },
    "language_info": {
      "name": "python"
    }
  },
  "cells": [
    {
      "cell_type": "markdown",
      "metadata": {
        "id": "view-in-github",
        "colab_type": "text"
      },
      "source": [
        "<a href=\"https://colab.research.google.com/github/Thishan96/Assignment-4/blob/master/Assignment1.ipynb\" target=\"_parent\"><img src=\"https://colab.research.google.com/assets/colab-badge.svg\" alt=\"Open In Colab\"/></a>"
      ]
    },
    {
      "cell_type": "code",
      "metadata": {
        "id": "jwVYW9eiUaNs"
      },
      "source": [
        "import pandas as pd;\n"
      ],
      "execution_count": 46,
      "outputs": []
    },
    {
      "cell_type": "code",
      "metadata": {
        "id": "8Mk30F_AXzDg"
      },
      "source": [
        "df = pd.read_csv(\"abalone.csv\")"
      ],
      "execution_count": 47,
      "outputs": []
    },
    {
      "cell_type": "code",
      "metadata": {
        "colab": {
          "base_uri": "https://localhost:8080/"
        },
        "id": "aRfPV2tdcUbB",
        "outputId": "328ad474-3726-47c1-dc90-c488477d5b68"
      },
      "source": [
        "df.shape"
      ],
      "execution_count": 48,
      "outputs": [
        {
          "output_type": "execute_result",
          "data": {
            "text/plain": [
              "(4176, 9)"
            ]
          },
          "metadata": {
            "tags": []
          },
          "execution_count": 48
        }
      ]
    },
    {
      "cell_type": "code",
      "metadata": {
        "id": "wjNNvKyWcYeR"
      },
      "source": [
        "colum_names = [\"sex\",\"ength\",\t\"Diam\",\t\"Height\",\t\"Whole\", \"Shucked\",\t\"Viscera\",\t\"Shell\",\t\"Rings\"]"
      ],
      "execution_count": 49,
      "outputs": []
    },
    {
      "cell_type": "code",
      "metadata": {
        "id": "oFGlO6uCc4ao"
      },
      "source": [
        "df.columns = colum_names"
      ],
      "execution_count": 50,
      "outputs": []
    },
    {
      "cell_type": "code",
      "metadata": {
        "colab": {
          "base_uri": "https://localhost:8080/",
          "height": 203
        },
        "id": "n2Vtz0XHc--Y",
        "outputId": "21cf7476-124d-4d50-9b1f-eff6761b30cf"
      },
      "source": [
        "df.head(5)"
      ],
      "execution_count": 51,
      "outputs": [
        {
          "output_type": "execute_result",
          "data": {
            "text/html": [
              "<div>\n",
              "<style scoped>\n",
              "    .dataframe tbody tr th:only-of-type {\n",
              "        vertical-align: middle;\n",
              "    }\n",
              "\n",
              "    .dataframe tbody tr th {\n",
              "        vertical-align: top;\n",
              "    }\n",
              "\n",
              "    .dataframe thead th {\n",
              "        text-align: right;\n",
              "    }\n",
              "</style>\n",
              "<table border=\"1\" class=\"dataframe\">\n",
              "  <thead>\n",
              "    <tr style=\"text-align: right;\">\n",
              "      <th></th>\n",
              "      <th>sex</th>\n",
              "      <th>ength</th>\n",
              "      <th>Diam</th>\n",
              "      <th>Height</th>\n",
              "      <th>Whole</th>\n",
              "      <th>Shucked</th>\n",
              "      <th>Viscera</th>\n",
              "      <th>Shell</th>\n",
              "      <th>Rings</th>\n",
              "    </tr>\n",
              "  </thead>\n",
              "  <tbody>\n",
              "    <tr>\n",
              "      <th>0</th>\n",
              "      <td>M</td>\n",
              "      <td>0.350</td>\n",
              "      <td>0.265</td>\n",
              "      <td>0.090</td>\n",
              "      <td>0.2255</td>\n",
              "      <td>0.0995</td>\n",
              "      <td>0.0485</td>\n",
              "      <td>0.070</td>\n",
              "      <td>7</td>\n",
              "    </tr>\n",
              "    <tr>\n",
              "      <th>1</th>\n",
              "      <td>F</td>\n",
              "      <td>0.530</td>\n",
              "      <td>0.420</td>\n",
              "      <td>0.135</td>\n",
              "      <td>0.6770</td>\n",
              "      <td>0.2565</td>\n",
              "      <td>0.1415</td>\n",
              "      <td>0.210</td>\n",
              "      <td>9</td>\n",
              "    </tr>\n",
              "    <tr>\n",
              "      <th>2</th>\n",
              "      <td>M</td>\n",
              "      <td>0.440</td>\n",
              "      <td>0.365</td>\n",
              "      <td>0.125</td>\n",
              "      <td>0.5160</td>\n",
              "      <td>0.2155</td>\n",
              "      <td>0.1140</td>\n",
              "      <td>0.155</td>\n",
              "      <td>10</td>\n",
              "    </tr>\n",
              "    <tr>\n",
              "      <th>3</th>\n",
              "      <td>I</td>\n",
              "      <td>0.330</td>\n",
              "      <td>0.255</td>\n",
              "      <td>0.080</td>\n",
              "      <td>0.2050</td>\n",
              "      <td>0.0895</td>\n",
              "      <td>0.0395</td>\n",
              "      <td>0.055</td>\n",
              "      <td>7</td>\n",
              "    </tr>\n",
              "    <tr>\n",
              "      <th>4</th>\n",
              "      <td>I</td>\n",
              "      <td>0.425</td>\n",
              "      <td>0.300</td>\n",
              "      <td>0.095</td>\n",
              "      <td>0.3515</td>\n",
              "      <td>0.1410</td>\n",
              "      <td>0.0775</td>\n",
              "      <td>0.120</td>\n",
              "      <td>8</td>\n",
              "    </tr>\n",
              "  </tbody>\n",
              "</table>\n",
              "</div>"
            ],
            "text/plain": [
              "  sex  ength   Diam  Height   Whole  Shucked  Viscera  Shell  Rings\n",
              "0   M  0.350  0.265   0.090  0.2255   0.0995   0.0485  0.070      7\n",
              "1   F  0.530  0.420   0.135  0.6770   0.2565   0.1415  0.210      9\n",
              "2   M  0.440  0.365   0.125  0.5160   0.2155   0.1140  0.155     10\n",
              "3   I  0.330  0.255   0.080  0.2050   0.0895   0.0395  0.055      7\n",
              "4   I  0.425  0.300   0.095  0.3515   0.1410   0.0775  0.120      8"
            ]
          },
          "metadata": {
            "tags": []
          },
          "execution_count": 51
        }
      ]
    },
    {
      "cell_type": "code",
      "metadata": {
        "colab": {
          "base_uri": "https://localhost:8080/"
        },
        "id": "CFmld0HndHDp",
        "outputId": "1a2d8dce-3baa-4bc6-a994-4d86f763b9f0"
      },
      "source": [
        "df.dtypes"
      ],
      "execution_count": 52,
      "outputs": [
        {
          "output_type": "execute_result",
          "data": {
            "text/plain": [
              "sex         object\n",
              "ength      float64\n",
              "Diam       float64\n",
              "Height     float64\n",
              "Whole      float64\n",
              "Shucked    float64\n",
              "Viscera    float64\n",
              "Shell      float64\n",
              "Rings        int64\n",
              "dtype: object"
            ]
          },
          "metadata": {
            "tags": []
          },
          "execution_count": 52
        }
      ]
    },
    {
      "cell_type": "code",
      "metadata": {
        "id": "E32A19KElHiy"
      },
      "source": [
        ""
      ],
      "execution_count": 52,
      "outputs": []
    },
    {
      "cell_type": "code",
      "metadata": {
        "colab": {
          "base_uri": "https://localhost:8080/",
          "height": 283
        },
        "id": "EJfp2kRimW2S",
        "outputId": "09af9c35-08dc-4614-9ebe-6d1a510bab1b"
      },
      "source": [
        "#correlation with Height & shucked meat of an abalone\n",
        "sns.regplot(x=\"Height\",y=\"Shucked\", data=df)\n",
        "plt.ylim(0,2)\n",
        "plt.xlim(0,0.4)\n",
        "plt.show()"
      ],
      "execution_count": 53,
      "outputs": [
        {
          "output_type": "display_data",
          "data": {
            "image/png": "[encoded data removed]",
            "text/plain": [
              "<Figure size 432x288 with 1 Axes>"
            ]
          },
          "metadata": {
            "tags": [],
            "needs_background": "light"
          }
        }
      ]
    },
    {
      "cell_type": "code",
      "metadata": {
        "id": "N4MIrPHOn9bl"
      },
      "source": [
        "from sklearn.linear_model import LinearRegression"
      ],
      "execution_count": 54,
      "outputs": []
    },
    {
      "cell_type": "code",
      "metadata": {
        "id": "Oe4pi1vFxwu8"
      },
      "source": [
        "lm = LinearRegression()"
      ],
      "execution_count": 55,
      "outputs": []
    },
    {
      "cell_type": "code",
      "metadata": {
        "id": "m9rLUeDcx5dp"
      },
      "source": [
        "#Going to plot simple linear regression between height and meet of an abalone\n",
        "x = df[['Height']]\n",
        "y = df['Shucked']"
      ],
      "execution_count": 56,
      "outputs": []
    },
    {
      "cell_type": "code",
      "metadata": {
        "colab": {
          "base_uri": "https://localhost:8080/"
        },
        "id": "_ORVLcW5yTZg",
        "outputId": "23d659a0-de65-4dd3-f783-8ee6f03152d3"
      },
      "source": [
        "lm.fit(x,y)"
      ],
      "execution_count": 57,
      "outputs": [
        {
          "output_type": "execute_result",
          "data": {
            "text/plain": [
              "LinearRegression(copy_X=True, fit_intercept=True, n_jobs=None, normalize=False)"
            ]
          },
          "metadata": {
            "tags": []
          },
          "execution_count": 57
        }
      ]
    },
    {
      "cell_type": "code",
      "metadata": {
        "colab": {
          "base_uri": "https://localhost:8080/"
        },
        "id": "J002DiZp3n9o",
        "outputId": "73a731be-10fe-464d-8ebd-a42343e61ee3"
      },
      "source": [
        "#intercept and coefficent\n",
        "lm.intercept_"
      ],
      "execution_count": 58,
      "outputs": [
        {
          "output_type": "execute_result",
          "data": {
            "text/plain": [
              "-0.2144508068898917"
            ]
          },
          "metadata": {
            "tags": []
          },
          "execution_count": 58
        }
      ]
    },
    {
      "cell_type": "code",
      "metadata": {
        "colab": {
          "base_uri": "https://localhost:8080/"
        },
        "id": "LfF77P6L33oW",
        "outputId": "e2da5498-5355-40b5-94cb-e19486685769"
      },
      "source": [
        "lm.coef_"
      ],
      "execution_count": 59,
      "outputs": [
        {
          "output_type": "execute_result",
          "data": {
            "text/plain": [
              "array([4.11282653])"
            ]
          },
          "metadata": {
            "tags": []
          },
          "execution_count": 59
        }
      ]
    },
    {
      "cell_type": "code",
      "metadata": {
        "colab": {
          "base_uri": "https://localhost:8080/",
          "height": 283
        },
        "id": "Udq0LFCK35c-",
        "outputId": "036eea88-4de7-4dce-93d8-972cdb0c9f63"
      },
      "source": [
        "#giving all x values to Yhat \n",
        "Yhat = lm.predict(x)\n",
        "#plot x with Yhat\n",
        "plt.plot(x,Yhat)\n",
        "#Scatter plot for clear idea of distribution\n",
        "plt.scatter(x,y)\n",
        "#setting up labels\n",
        "plt.xlabel(\"Height of abalon\")\n",
        "plt.ylabel(\"Shucked Meat\")\n",
        "#Setting up limits\n",
        "plt.xlim(0,3)\n",
        "plt.ylim(0,2)\n",
        "plt.show()"
      ],
      "execution_count": 60,
      "outputs": [
        {
          "output_type": "display_data",
          "data": {
            "image/png": "[encoded data removed]",
            "text/plain": [
              "<Figure size 432x288 with 1 Axes>"
            ]
          },
          "metadata": {
            "tags": [],
            "needs_background": "light"
          }
        }
      ]
    },
    {
      "cell_type": "code",
      "metadata": {
        "id": "KKD2uJBY5Avg"
      },
      "source": [
        "#Multiple Linear Regression\n",
        "z = df[[ 'ength', 'Diam', 'Height', 'Rings']]"
      ],
      "execution_count": 61,
      "outputs": []
    },
    {
      "cell_type": "code",
      "metadata": {
        "colab": {
          "base_uri": "https://localhost:8080/"
        },
        "id": "CkckF01h6Nmg",
        "outputId": "a2d9486d-6a77-4631-d967-628895002b81"
      },
      "source": [
        "#calculating function\n",
        "lm.fit(z,df['Shucked'])"
      ],
      "execution_count": 62,
      "outputs": [
        {
          "output_type": "execute_result",
          "data": {
            "text/plain": [
              "LinearRegression(copy_X=True, fit_intercept=True, n_jobs=None, normalize=False)"
            ]
          },
          "metadata": {
            "tags": []
          },
          "execution_count": 62
        }
      ]
    },
    {
      "cell_type": "code",
      "metadata": {
        "colab": {
          "base_uri": "https://localhost:8080/"
        },
        "id": "DkCsjd2P6gOv",
        "outputId": "64a83abc-8b4a-4e7d-c2ad-a963a7b4d382"
      },
      "source": [
        "#intercept and coefficent (I should have 4 coefficents)\n",
        "lm.intercept_"
      ],
      "execution_count": 63,
      "outputs": [
        {
          "output_type": "execute_result",
          "data": {
            "text/plain": [
              "-0.4673623675476384"
            ]
          },
          "metadata": {
            "tags": []
          },
          "execution_count": 63
        }
      ]
    },
    {
      "cell_type": "code",
      "metadata": {
        "colab": {
          "base_uri": "https://localhost:8080/"
        },
        "id": "am-X7Lq965Km",
        "outputId": "f2d592b0-ff39-4884-f927-88a3b8f244e5"
      },
      "source": [
        "lm.coef_"
      ],
      "execution_count": 64,
      "outputs": [
        {
          "output_type": "execute_result",
          "data": {
            "text/plain": [
              "array([ 1.01696941,  0.73033694,  0.679421  , -0.00995064])"
            ]
          },
          "metadata": {
            "tags": []
          },
          "execution_count": 64
        }
      ]
    },
    {
      "cell_type": "code",
      "metadata": {
        "colab": {
          "base_uri": "https://localhost:8080/",
          "height": 382
        },
        "id": "q-3YCT0Z67y_",
        "outputId": "35a48fa9-6724-44e6-ec73-e126fabe88ea"
      },
      "source": [
        "Yhat = lm.predict(z)\n",
        "sns.distplot(df['Shucked'], hist =False, color =\"r\", label= \"Actual curve\")\n",
        "sns.distplot(Yhat, hist =False, color =\"b\", label= \"Fitted curve\")\n",
        "plt.xlabel(\"Influence of X(see title)\")\n",
        "plt.ylabel(\"Shucked weight\")\n",
        "plt.title(\"Height, Weight, Width & Age over Shucked weight of an Abalone\")\n",
        "\n",
        "plt.show()\n",
        "\n",
        "# No idea why this graph contains \" - \" values!\n",
        "\n"
      ],
      "execution_count": 65,
      "outputs": [
        {
          "output_type": "stream",
          "text": [
            "/usr/local/lib/python3.7/dist-packages/seaborn/distributions.py:2557: FutureWarning: `distplot` is a deprecated function and will be removed in a future version. Please adapt your code to use either `displot` (a figure-level function with similar flexibility) or `kdeplot` (an axes-level function for kernel density plots).\n",
            "  warnings.warn(msg, FutureWarning)\n",
            "/usr/local/lib/python3.7/dist-packages/seaborn/distributions.py:2557: FutureWarning: `distplot` is a deprecated function and will be removed in a future version. Please adapt your code to use either `displot` (a figure-level function with similar flexibility) or `kdeplot` (an axes-level function for kernel density plots).\n",
            "  warnings.warn(msg, FutureWarning)\n"
          ],
          "name": "stderr"
        },
        {
          "output_type": "display_data",
          "data": {
            "image/png": "[encoded data removed]",
            "text/plain": [
              "<Figure size 432x288 with 1 Axes>"
            ]
          },
          "metadata": {
            "tags": [],
            "needs_background": "light"
          }
        }
      ]
    }
  ]
}